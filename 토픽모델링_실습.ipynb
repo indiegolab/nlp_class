{
  "nbformat": 4,
  "nbformat_minor": 0,
  "metadata": {
    "colab": {
      "name": "토픽모델링 실습.ipynb",
      "provenance": [],
      "collapsed_sections": [],
      "include_colab_link": true
    },
    "kernelspec": {
      "name": "python3",
      "display_name": "Python 3"
    }
  },
  "cells": [
    {
      "cell_type": "markdown",
      "metadata": {
        "id": "view-in-github",
        "colab_type": "text"
      },
      "source": [
        "<a href=\"https://colab.research.google.com/github/indiegolab/nlp_class/blob/master/%ED%86%A0%ED%94%BD%EB%AA%A8%EB%8D%B8%EB%A7%81_%EC%8B%A4%EC%8A%B5.ipynb\" target=\"_parent\"><img src=\"https://colab.research.google.com/assets/colab-badge.svg\" alt=\"Open In Colab\"/></a>"
      ]
    },
    {
      "cell_type": "code",
      "metadata": {
        "id": "gGv2XYyC-SwC",
        "colab_type": "code",
        "colab": {}
      },
      "source": [
        "import numpy as np\n",
        "from collections import defaultdict\n",
        "from sklearn.metrics.pairwise import cosine_similarity\n",
        "\n",
        "class LSA :\n",
        "  def __init__(self, doc_ls, topic_num):\n",
        "    self.doc_ls = doc_ls\n",
        "    self.topic_num = topic_num\n",
        "    self.term2idx, self.idx2term = self.toIdxDict(' '.join(doc_ls).split())\n",
        "    self.doc2idx, self.idx2doc = self.toIdxDict(doc_ls)\n",
        "    \n",
        "    self.tdm = self.TDM(doc_ls)\n",
        "    self.U, self.s, self.VT = self.SVD(self.tdm)\n",
        "    \n",
        "  # 리스트내 값을 index로 변환하는 dict과 index를 리스트내 값으로 변환하는 dict\n",
        "  def toIdxDict(self, ls) :\n",
        "    any2idx = defaultdict(lambda : len(any2idx))\n",
        "    idx2any = defaultdict()\n",
        "\n",
        "    for item in ls:\n",
        "        any2idx[item]\n",
        "        idx2any[any2idx[item]] = item\n",
        "        \n",
        "    return any2idx, idx2any\n",
        "  \n",
        "  def TDM(self, doc_ls):\n",
        "    # 행(토큰크기), 열(문서갯수)로 TDM 생성\n",
        "    tdm = np.zeros([len(self.term2idx.keys()), len(doc_ls)])\n",
        "    \n",
        "    for doc_idx, doc in enumerate(doc_ls) :\n",
        "      for term in doc.split() :\n",
        "        #등장한 단어를 dictionary에서 위치를 탐색하여 빈도수 세기\n",
        "        tdm[self.term2idx[term], doc_idx] += 1\n",
        "    \n",
        "    return tdm\n",
        "  \n",
        "  # 특이값 분해\n",
        "  def SVD(self, tdm):\n",
        "    U, s, VT = randomized_svd(X, \n",
        "                              n_components=15,\n",
        "                              n_iter=5,\n",
        "                              random_state=None)\n",
        "    \n",
        "    #U, s, VT = np.linalg.svd(tdm)\n",
        "    return U, s, VT\n",
        "  \n",
        "  # 토픽별 주요 키워드 출력\n",
        "  def TopicModeling(self, count = 3) :\n",
        "    topic_num = self.topic_num\n",
        "    \n",
        "    for i in range(topic_num) :\n",
        "      score = self.U[:,i:i+1].T\n",
        "      sorted_index = np.flip(np.argsort(-score),0)\n",
        "      \n",
        "      a = []\n",
        "      for j in sorted_index[0,: count] :\n",
        "        a.append((self.idx2term[j], score[0,j].round(3)))\n",
        "      \n",
        "      print(\"Topic {} - {}\".format(i+1,a ))\n",
        "      \n",
        "      \n",
        "doc_ls = ['바나나 사과 포도 포도 짜장면',\n",
        "         '사과 포도',\n",
        "         '포도 바나나',\n",
        "         '짜장면 짬뽕 탕수육',\n",
        "         '볶음밥 탕수육',\n",
        "         '짜장면 짬뽕',\n",
        "         '라면 스시',\n",
        "         '스시 짜장면',\n",
        "         '가츠동 스시 소바',\n",
        "         '된장찌개 김치찌개 김치',\n",
        "         '김치 된장 짜장면',\n",
        "         '비빔밥 김치'\n",
        "         ]\n",
        "\n",
        "lsa = LSA(doc_ls, 4)\n",
        "X = lsa.TDM(doc_ls)\n",
        "print('== 토픽 모델링 ==')\n",
        "lsa.TopicModeling(4)      "
      ],
      "execution_count": 0,
      "outputs": []
    }
  ]
}