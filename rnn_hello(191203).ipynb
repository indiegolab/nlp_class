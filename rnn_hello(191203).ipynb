{
  "nbformat": 4,
  "nbformat_minor": 0,
  "metadata": {
    "colab": {
      "name": "rnn_hello(191203).ipynb",
      "provenance": [],
      "collapsed_sections": [],
      "include_colab_link": true
    },
    "kernelspec": {
      "name": "python3",
      "display_name": "Python 3"
    },
    "accelerator": "GPU"
  },
  "cells": [
    {
      "cell_type": "markdown",
      "metadata": {
        "id": "view-in-github",
        "colab_type": "text"
      },
      "source": [
        "<a href=\"https://colab.research.google.com/github/indiegolab/nlp_class/blob/master/rnn_hello(191203).ipynb\" target=\"_parent\"><img src=\"https://colab.research.google.com/assets/colab-badge.svg\" alt=\"Open In Colab\"/></a>"
      ]
    },
    {
      "cell_type": "code",
      "metadata": {
        "id": "Fy1ljy6XpGzo",
        "colab_type": "code",
        "outputId": "5e0e147b-ac29-4fff-a8fd-5647e757b87a",
        "colab": {
          "base_uri": "https://localhost:8080/",
          "height": 33
        }
      },
      "source": [
        "#tensorflow 2.0 임포트\n",
        "try:\n",
        "  # %tensorflow_version only exists in Colab.\n",
        "  %tensorflow_version 2.x\n",
        "except Exception:\n",
        "  pass\n",
        "import tensorflow as tf"
      ],
      "execution_count": 0,
      "outputs": [
        {
          "output_type": "stream",
          "text": [
            "TensorFlow 2.x selected.\n"
          ],
          "name": "stdout"
        }
      ]
    },
    {
      "cell_type": "code",
      "metadata": {
        "id": "geVw3sv7pRPL",
        "colab_type": "code",
        "outputId": "ed3d776f-a945-4f7f-9d3e-716cc1b5188a",
        "colab": {
          "base_uri": "https://localhost:8080/",
          "height": 33
        }
      },
      "source": [
        "tf.__version__"
      ],
      "execution_count": 0,
      "outputs": [
        {
          "output_type": "execute_result",
          "data": {
            "text/plain": [
              "'2.0.0'"
            ]
          },
          "metadata": {
            "tags": []
          },
          "execution_count": 2
        }
      ]
    },
    {
      "cell_type": "code",
      "metadata": {
        "id": "oRWnjtRVlyUJ",
        "colab_type": "code",
        "outputId": "d0be92cf-9cbf-495a-f7b3-51a849b89682",
        "colab": {
          "base_uri": "https://localhost:8080/",
          "height": 50
        }
      },
      "source": [
        "import numpy as np\n",
        "import tensorflow as tf\n",
        "\n",
        "idx2char = ['토', '마', '를', '먹', '자']\n",
        "\n",
        "# # Teach hello: hihell -> ihello\n",
        "# # x_data = [[0, 1, 0, 2, 3, 3]]  # hihell\n",
        "# y_data = [[1, 0, 2, 3, 3, 4]]  # ihello\n",
        "\n",
        "# 토마토 가르치기: 토토마를자먹 -> 토마토를먹자\n",
        "# x_data = [[0, 0, 1, 2, 4, 3]]   ## 토토마를자먹\n",
        "y_data = [[0, 1, 0, 2, 3, 4]]    # 토마토를먹자\n",
        "\n",
        "num_classes = 5\n",
        "input_dim = 5  # one-hot size, same as hidden_size to directly predict one-hot\n",
        "sequence_length = 6  # |토마토를먹자| == 6\n",
        "learning_rate = 0.1\n",
        "\n",
        "x_one_hot = np.array([[[1, 0, 0, 0, 0],   # 토 0\n",
        "                       [1, 0, 0, 0, 0],   # 토 0\n",
        "                       [0, 1, 0, 0, 0],   # 마 1\n",
        "                       [0, 0, 1, 0, 0],   # 를 2\n",
        "                       [0, 0, 0, 0, 1],   # 자 4\n",
        "                       [0, 0, 0, 1, 0]]], # 먹 3\n",
        "                     dtype=np.float32)\n",
        "\n",
        "y_one_hot = tf.keras.utils.to_categorical(y_data, num_classes=num_classes)\n",
        "print(\"x_one_hot의 shape\", x_one_hot.shape)\n",
        "print(\"y_one_hot의 shape\", y_one_hot.shape)"
      ],
      "execution_count": 0,
      "outputs": [
        {
          "output_type": "stream",
          "text": [
            "x_one_hot의 shape (1, 6, 5)\n",
            "y_one_hot의 shape (1, 6, 5)\n"
          ],
          "name": "stdout"
        }
      ]
    },
    {
      "cell_type": "code",
      "metadata": {
        "id": "BMx-9wJ3pMxJ",
        "colab_type": "code",
        "colab": {}
      },
      "source": [
        "tf.model = tf.keras.Sequential()\n",
        "'''\n",
        "셀을 만들고 RNN 레이어에 추가\n",
        "input_shape = (1,6,5) => 시퀀스 수 (배치), 시퀀스 길이, dim 사이즈\n",
        "'''\n",
        "# cell = tf.keras.layers.LSTMCell(units=num_classes, input_shape=(sequence_length, input_dim))\n",
        "\n",
        "cell = tf.keras.layers.SimpleRNNCell(units=num_classes, input_shape=(sequence_length, input_dim))\n",
        "\n",
        "# cell = tf.keras.layers.GRUCell(units=num_classes, input_shape=(sequence_length, input_dim))\n",
        "\n",
        "# print(num_classes, sequence_length, input_dim)\n",
        "## 레이어 생성 자체를 GRU나 LSTM로 생성할 수 도 있고, Cell만 따로 만들어서 RNN 레이어에 넣을 수도 있다.\n",
        "\n",
        "tf.model.add(tf.keras.layers.RNN(cell=cell, # cell 종류만 바꿔서 실험 가능.\n",
        "                                 return_sequences=True))\n",
        "# LSTMCell을 만드는 대신 단일 LSTM 레이어를 사용할 수도 있다.\n",
        "# tf.model.add(tf.keras.layers.LSTM(units=num_classes, input_shape=(sequence_length, input_dim), return_sequences=True))"
      ],
      "execution_count": 0,
      "outputs": []
    },
    {
      "cell_type": "code",
      "metadata": {
        "id": "JRpKz2UHqd0V",
        "colab_type": "code",
        "outputId": "8ec2061e-8c4d-4df5-fad4-c99cf045d2b2",
        "colab": {
          "base_uri": "https://localhost:8080/",
          "height": 1000
        }
      },
      "source": [
        "# Fully Connected layer, 활성함수 = softmax\n",
        "tf.model.add(tf.keras.layers.TimeDistributed(tf.keras.layers.Dense(units=num_classes, activation='softmax')))\n",
        "\n",
        "# 손실함수 = 'categorical_crossentropy, Adam 옵티마이저 사용\n",
        "tf.model.compile(loss='categorical_crossentropy', \n",
        "                 optimizer=tf.keras.optimizers.Adam(lr=learning_rate),\n",
        "                 metrics=['accuracy'])\n",
        "\n",
        "# 훈련\n",
        "tf.model.fit(x_one_hot, y_one_hot, epochs=50) # 에폭 = 50\n",
        "tf.model.summary()\n",
        "\n",
        "predictions = tf.model.predict(x_one_hot)\n",
        "for i, prediction in enumerate(predictions):\n",
        "    print(prediction)\n",
        "\n",
        "    # print char using argmax, dict\n",
        "    result_str = [idx2char[c] for c in np.argmax(prediction, axis=1)]\n",
        "    print(\"\\tPrediction str: \", ''.join(result_str))"
      ],
      "execution_count": 14,
      "outputs": [
        {
          "output_type": "stream",
          "text": [
            "Train on 1 samples\n",
            "Epoch 1/50\n",
            "1/1 [==============================] - 1s 1s/sample - loss: 1.9842 - accuracy: 0.0000e+00\n",
            "Epoch 2/50\n",
            "1/1 [==============================] - 0s 19ms/sample - loss: 1.7828 - accuracy: 0.0000e+00\n",
            "Epoch 3/50\n",
            "1/1 [==============================] - 0s 13ms/sample - loss: 1.5969 - accuracy: 0.0000e+00\n",
            "Epoch 4/50\n",
            "1/1 [==============================] - 0s 14ms/sample - loss: 1.4151 - accuracy: 0.5000\n",
            "Epoch 5/50\n",
            "1/1 [==============================] - 0s 14ms/sample - loss: 1.2785 - accuracy: 0.6667\n",
            "Epoch 6/50\n",
            "1/1 [==============================] - 0s 13ms/sample - loss: 1.1617 - accuracy: 0.6667\n",
            "Epoch 7/50\n",
            "1/1 [==============================] - 0s 14ms/sample - loss: 1.0536 - accuracy: 0.6667\n",
            "Epoch 8/50\n",
            "1/1 [==============================] - 0s 12ms/sample - loss: 0.9566 - accuracy: 0.8333\n",
            "Epoch 9/50\n",
            "1/1 [==============================] - 0s 13ms/sample - loss: 0.8688 - accuracy: 0.8333\n",
            "Epoch 10/50\n",
            "1/1 [==============================] - 0s 14ms/sample - loss: 0.7869 - accuracy: 0.8333\n",
            "Epoch 11/50\n",
            "1/1 [==============================] - 0s 14ms/sample - loss: 0.7091 - accuracy: 0.8333\n",
            "Epoch 12/50\n",
            "1/1 [==============================] - 0s 12ms/sample - loss: 0.6381 - accuracy: 0.8333\n",
            "Epoch 13/50\n",
            "1/1 [==============================] - 0s 13ms/sample - loss: 0.5803 - accuracy: 0.8333\n",
            "Epoch 14/50\n",
            "1/1 [==============================] - 0s 11ms/sample - loss: 0.5281 - accuracy: 0.8333\n",
            "Epoch 15/50\n",
            "1/1 [==============================] - 0s 16ms/sample - loss: 0.4757 - accuracy: 1.0000\n",
            "Epoch 16/50\n",
            "1/1 [==============================] - 0s 16ms/sample - loss: 0.4259 - accuracy: 1.0000\n",
            "Epoch 17/50\n",
            "1/1 [==============================] - 0s 16ms/sample - loss: 0.3833 - accuracy: 1.0000\n",
            "Epoch 18/50\n",
            "1/1 [==============================] - 0s 17ms/sample - loss: 0.3489 - accuracy: 1.0000\n",
            "Epoch 19/50\n",
            "1/1 [==============================] - 0s 17ms/sample - loss: 0.3164 - accuracy: 1.0000\n",
            "Epoch 20/50\n",
            "1/1 [==============================] - 0s 16ms/sample - loss: 0.2840 - accuracy: 1.0000\n",
            "Epoch 21/50\n",
            "1/1 [==============================] - 0s 15ms/sample - loss: 0.2551 - accuracy: 1.0000\n",
            "Epoch 22/50\n",
            "1/1 [==============================] - 0s 15ms/sample - loss: 0.2303 - accuracy: 1.0000\n",
            "Epoch 23/50\n",
            "1/1 [==============================] - 0s 14ms/sample - loss: 0.2081 - accuracy: 1.0000\n",
            "Epoch 24/50\n",
            "1/1 [==============================] - 0s 12ms/sample - loss: 0.1878 - accuracy: 1.0000\n",
            "Epoch 25/50\n",
            "1/1 [==============================] - 0s 16ms/sample - loss: 0.1692 - accuracy: 1.0000\n",
            "Epoch 26/50\n",
            "1/1 [==============================] - 0s 16ms/sample - loss: 0.1525 - accuracy: 1.0000\n",
            "Epoch 27/50\n",
            "1/1 [==============================] - 0s 16ms/sample - loss: 0.1376 - accuracy: 1.0000\n",
            "Epoch 28/50\n",
            "1/1 [==============================] - 0s 21ms/sample - loss: 0.1244 - accuracy: 1.0000\n",
            "Epoch 29/50\n",
            "1/1 [==============================] - 0s 16ms/sample - loss: 0.1129 - accuracy: 1.0000\n",
            "Epoch 30/50\n",
            "1/1 [==============================] - 0s 14ms/sample - loss: 0.1028 - accuracy: 1.0000\n",
            "Epoch 31/50\n",
            "1/1 [==============================] - 0s 16ms/sample - loss: 0.0940 - accuracy: 1.0000\n",
            "Epoch 32/50\n",
            "1/1 [==============================] - 0s 14ms/sample - loss: 0.0863 - accuracy: 1.0000\n",
            "Epoch 33/50\n",
            "1/1 [==============================] - 0s 14ms/sample - loss: 0.0795 - accuracy: 1.0000\n",
            "Epoch 34/50\n",
            "1/1 [==============================] - 0s 15ms/sample - loss: 0.0735 - accuracy: 1.0000\n",
            "Epoch 35/50\n",
            "1/1 [==============================] - 0s 14ms/sample - loss: 0.0683 - accuracy: 1.0000\n",
            "Epoch 36/50\n",
            "1/1 [==============================] - 0s 14ms/sample - loss: 0.0635 - accuracy: 1.0000\n",
            "Epoch 37/50\n",
            "1/1 [==============================] - 0s 16ms/sample - loss: 0.0593 - accuracy: 1.0000\n",
            "Epoch 38/50\n",
            "1/1 [==============================] - 0s 16ms/sample - loss: 0.0555 - accuracy: 1.0000\n",
            "Epoch 39/50\n",
            "1/1 [==============================] - 0s 16ms/sample - loss: 0.0521 - accuracy: 1.0000\n",
            "Epoch 40/50\n",
            "1/1 [==============================] - 0s 14ms/sample - loss: 0.0489 - accuracy: 1.0000\n",
            "Epoch 41/50\n",
            "1/1 [==============================] - 0s 22ms/sample - loss: 0.0461 - accuracy: 1.0000\n",
            "Epoch 42/50\n",
            "1/1 [==============================] - 0s 17ms/sample - loss: 0.0435 - accuracy: 1.0000\n",
            "Epoch 43/50\n",
            "1/1 [==============================] - 0s 16ms/sample - loss: 0.0411 - accuracy: 1.0000\n",
            "Epoch 44/50\n",
            "1/1 [==============================] - 0s 14ms/sample - loss: 0.0389 - accuracy: 1.0000\n",
            "Epoch 45/50\n",
            "1/1 [==============================] - 0s 17ms/sample - loss: 0.0369 - accuracy: 1.0000\n",
            "Epoch 46/50\n",
            "1/1 [==============================] - 0s 18ms/sample - loss: 0.0351 - accuracy: 1.0000\n",
            "Epoch 47/50\n",
            "1/1 [==============================] - 0s 16ms/sample - loss: 0.0334 - accuracy: 1.0000\n",
            "Epoch 48/50\n",
            "1/1 [==============================] - 0s 16ms/sample - loss: 0.0319 - accuracy: 1.0000\n",
            "Epoch 49/50\n",
            "1/1 [==============================] - 0s 16ms/sample - loss: 0.0305 - accuracy: 1.0000\n",
            "Epoch 50/50\n",
            "1/1 [==============================] - 0s 15ms/sample - loss: 0.0292 - accuracy: 1.0000\n",
            "Model: \"sequential_1\"\n",
            "_________________________________________________________________\n",
            "Layer (type)                 Output Shape              Param #   \n",
            "=================================================================\n",
            "rnn_1 (RNN)                  multiple                  55        \n",
            "_________________________________________________________________\n",
            "time_distributed (TimeDistri multiple                  30        \n",
            "_________________________________________________________________\n",
            "time_distributed_1 (TimeDist multiple                  30        \n",
            "=================================================================\n",
            "Total params: 115\n",
            "Trainable params: 115\n",
            "Non-trainable params: 0\n",
            "_________________________________________________________________\n",
            "[[9.7546697e-01 2.1059618e-03 6.4107105e-03 9.7242314e-03 6.2921317e-03]\n",
            " [5.4684537e-03 9.7716945e-01 2.1564758e-03 7.3436410e-03 7.8619448e-03]\n",
            " [9.7543460e-01 2.1100803e-03 6.4288336e-03 9.7287372e-03 6.2977527e-03]\n",
            " [8.0315406e-03 5.6310538e-03 9.7001183e-01 1.0821362e-02 5.5042161e-03]\n",
            " [1.3969357e-03 1.8508129e-03 8.6058554e-04 9.7564906e-01 2.0242626e-02]\n",
            " [1.5458214e-02 9.2760120e-03 8.6316122e-03 6.0415966e-03 9.6059257e-01]]\n",
            "\tPrediction str:  토마토를먹자\n"
          ],
          "name": "stdout"
        }
      ]
    },
    {
      "cell_type": "code",
      "metadata": {
        "id": "5fEWJjMiqgbL",
        "colab_type": "code",
        "colab": {}
      },
      "source": [
        ""
      ],
      "execution_count": 0,
      "outputs": []
    },
    {
      "cell_type": "code",
      "metadata": {
        "id": "Uz1plY9BuuVs",
        "colab_type": "code",
        "colab": {}
      },
      "source": [
        ""
      ],
      "execution_count": 0,
      "outputs": []
    }
  ]
}